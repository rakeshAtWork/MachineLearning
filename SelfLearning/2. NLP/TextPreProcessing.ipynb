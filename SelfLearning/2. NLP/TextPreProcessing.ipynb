{
 "cells": [
  {
   "cell_type": "code",
   "execution_count": 105,
   "metadata": {},
   "outputs": [],
   "source": [
    "paragraph = '''Narendra Modi, the Prime Minister of India since 2014, is a prominent figure in global politics known for his dynamic leadership and ambitious vision for the country. Born on September 17, 1950, in Vadnagar, Gujarat, Modi's journey from a small-town tea seller to the highest office in the country is both inspiring and remarkable. He rose through the ranks of the Bharatiya Janata Party (BJP), showcasing his organizational acumen and oratory skills, which eventually led to his tenure as the Chief Minister of Gujarat from 2001 to 2014. During his time as Chief Minister, he was credited with transforming Gujarat into a vibrant economic powerhouse, although his tenure was also marked by controversy, particularly the 2002 Gujarat riots.\n",
    "\n",
    "As Prime Minister, Modi has initiated several key reforms and policies aimed at modernizing India's infrastructure and economy. His flagship initiatives like \"Make in India,\" \"Digital India,\" and \"Swachh Bharat Abhiyan\" (Clean India Mission) have garnered significant attention and investment, both domestically and internationally. Modi's foreign policy has also been assertive, striving to enhance India's global stature and forge strategic partnerships with major world powers. His leadership style, characterized by a strong centralization of power and a focus on nationalistic and economic development agendas, has resonated with many Indians, securing him a second term in 2019 with a decisive electoral mandate.\n",
    "\n",
    "Despite his successes, Modi's tenure has not been without criticism. His economic policies, including the controversial demonetization of 2016 and the implementation of the Goods and Services Tax (GST), have faced scrutiny for their impacts on various sectors of the economy. Additionally, his administration's handling of issues such as religious tolerance, press freedom, and the Kashmir conflict has been a subject of intense debate and international concern. Nevertheless, Narendra Modi remains a formidable and influential leader, continually shaping the course of India's future through his policies and vision. His ability to connect with the masses and his unwavering commitment to his vision for India ensure that he remains a pivotal figure in both Indian and global politics.'''"
   ]
  },
  {
   "cell_type": "code",
   "execution_count": 106,
   "metadata": {},
   "outputs": [
    {
     "data": {
      "text/plain": [
       "'Narendra Modi, the Prime Minister of India since 2014, is a prominent figure in global politics known for his dynamic leadership and ambitious vision for the country. Born on September 17, 1950, in Vadnagar, Gujarat, Modi\\'s journey from a small-town tea seller to the highest office in the country is both inspiring and remarkable. He rose through the ranks of the Bharatiya Janata Party (BJP), showcasing his organizational acumen and oratory skills, which eventually led to his tenure as the Chief Minister of Gujarat from 2001 to 2014. During his time as Chief Minister, he was credited with transforming Gujarat into a vibrant economic powerhouse, although his tenure was also marked by controversy, particularly the 2002 Gujarat riots.\\n\\nAs Prime Minister, Modi has initiated several key reforms and policies aimed at modernizing India\\'s infrastructure and economy. His flagship initiatives like \"Make in India,\" \"Digital India,\" and \"Swachh Bharat Abhiyan\" (Clean India Mission) have garnered significant attention and investment, both domestically and internationally. Modi\\'s foreign policy has also been assertive, striving to enhance India\\'s global stature and forge strategic partnerships with major world powers. His leadership style, characterized by a strong centralization of power and a focus on nationalistic and economic development agendas, has resonated with many Indians, securing him a second term in 2019 with a decisive electoral mandate.\\n\\nDespite his successes, Modi\\'s tenure has not been without criticism. His economic policies, including the controversial demonetization of 2016 and the implementation of the Goods and Services Tax (GST), have faced scrutiny for their impacts on various sectors of the economy. Additionally, his administration\\'s handling of issues such as religious tolerance, press freedom, and the Kashmir conflict has been a subject of intense debate and international concern. Nevertheless, Narendra Modi remains a formidable and influential leader, continually shaping the course of India\\'s future through his policies and vision. His ability to connect with the masses and his unwavering commitment to his vision for India ensure that he remains a pivotal figure in both Indian and global politics.'"
      ]
     },
     "execution_count": 106,
     "metadata": {},
     "output_type": "execute_result"
    }
   ],
   "source": [
    "paragraph"
   ]
  },
  {
   "cell_type": "markdown",
   "metadata": {},
   "source": [
    "## Implementation of TextPre Processing 1\n",
    "\n",
    "### 1. Tokenization\n",
    "### 2. StopWords\n",
    "### 3. Stemming\n",
    "### 4. Lemmatization"
   ]
  },
  {
   "cell_type": "code",
   "execution_count": 107,
   "metadata": {},
   "outputs": [],
   "source": [
    "# All imports for PreText Processing !\n",
    "import nltk\n",
    "from nltk.stem import PorterStemmer \n",
    "from nltk.corpus import stopwords   "
   ]
  },
  {
   "cell_type": "code",
   "execution_count": 108,
   "metadata": {},
   "outputs": [
    {
     "name": "stderr",
     "output_type": "stream",
     "text": [
      "[nltk_data] Downloading package punkt to\n",
      "[nltk_data]     C:\\Users\\CZ0234\\AppData\\Roaming\\nltk_data...\n",
      "[nltk_data]   Package punkt is already up-to-date!\n"
     ]
    }
   ],
   "source": [
    "# Tokenization  --- converting paragraph-sentences-words\n",
    "nltk.download('punkt')\n",
    "sentences = nltk.sent_tokenize(paragraph)"
   ]
  },
  {
   "cell_type": "code",
   "execution_count": 109,
   "metadata": {},
   "outputs": [],
   "source": [
    "# Doing the Stemming part\n",
    "stemmer = PorterStemmer()"
   ]
  },
  {
   "cell_type": "code",
   "execution_count": 110,
   "metadata": {},
   "outputs": [
    {
     "data": {
      "text/plain": [
       "'histori'"
      ]
     },
     "execution_count": 110,
     "metadata": {},
     "output_type": "execute_result"
    }
   ],
   "source": [
    "stemmer.stem(\"history\")"
   ]
  },
  {
   "cell_type": "code",
   "execution_count": 111,
   "metadata": {},
   "outputs": [
    {
     "name": "stderr",
     "output_type": "stream",
     "text": [
      "[nltk_data] Downloading package wordnet to\n",
      "[nltk_data]     C:\\Users\\CZ0234\\AppData\\Roaming\\nltk_data...\n",
      "[nltk_data]   Package wordnet is already up-to-date!\n"
     ]
    },
    {
     "data": {
      "text/plain": [
       "True"
      ]
     },
     "execution_count": 111,
     "metadata": {},
     "output_type": "execute_result"
    }
   ],
   "source": [
    "# Lemmatization steps\n",
    "from nltk.stem import  WordNetLemmatizer\n",
    "nltk.download('wordnet')"
   ]
  },
  {
   "cell_type": "code",
   "execution_count": 112,
   "metadata": {},
   "outputs": [],
   "source": [
    "lemmatizer = WordNetLemmatizer()"
   ]
  },
  {
   "cell_type": "code",
   "execution_count": 113,
   "metadata": {},
   "outputs": [
    {
     "data": {
      "text/plain": [
       "'Drinking'"
      ]
     },
     "execution_count": 113,
     "metadata": {},
     "output_type": "execute_result"
    }
   ],
   "source": [
    "lemmatizer.lemmatize(\"Drinking\")"
   ]
  },
  {
   "cell_type": "code",
   "execution_count": 114,
   "metadata": {},
   "outputs": [
    {
     "data": {
      "text/plain": [
       "'go'"
      ]
     },
     "execution_count": 114,
     "metadata": {},
     "output_type": "execute_result"
    }
   ],
   "source": [
    "lemmatizer.lemmatize(\"goes\") # its more accurate."
   ]
  },
  {
   "cell_type": "code",
   "execution_count": 116,
   "metadata": {},
   "outputs": [
    {
     "data": {
      "text/plain": [
       "13"
      ]
     },
     "execution_count": 116,
     "metadata": {},
     "output_type": "execute_result"
    }
   ],
   "source": [
    "# cleaning the whole paragraph.\n",
    "len(sentences)"
   ]
  },
  {
   "cell_type": "code",
   "execution_count": 119,
   "metadata": {},
   "outputs": [
    {
     "name": "stderr",
     "output_type": "stream",
     "text": [
      "[nltk_data] Downloading package stopwords to\n",
      "[nltk_data]     C:\\Users\\CZ0234\\AppData\\Roaming\\nltk_data...\n",
      "[nltk_data]   Package stopwords is already up-to-date!\n"
     ]
    },
    {
     "data": {
      "text/plain": [
       "True"
      ]
     },
     "execution_count": 119,
     "metadata": {},
     "output_type": "execute_result"
    }
   ],
   "source": [
    "#  Downloading the StopWord in the NLTK Library.\n",
    "nltk.download('stopwords')\n",
    "# stopwords.words(\"english\")"
   ]
  },
  {
   "cell_type": "code",
   "execution_count": 124,
   "metadata": {},
   "outputs": [
    {
     "name": "stdout",
     "output_type": "stream",
     "text": [
      "['narendra modi prime minister india since prominent figure global politics known dynamic leadership ambitious vision country', 'born september vadnagar gujarat modi journey small town tea seller highest office country inspiring remarkable', 'rose rank bharatiya janata party bjp showcasing organizational acumen oratory skill eventually led tenure chief minister gujarat', 'time chief minister credited transforming gujarat vibrant economic powerhouse although tenure also marked controversy particularly gujarat riot', 'prime minister modi initiated several key reform policy aimed modernizing india infrastructure economy', 'flagship initiative like make india digital india swachh bharat abhiyan clean india mission garnered significant attention investment domestically internationally', 'modi foreign policy also assertive striving enhance india global stature forge strategic partnership major world power', 'leadership style characterized strong centralization power focus nationalistic economic development agenda resonated many indian securing second term decisive electoral mandate', 'despite success modi tenure without criticism', 'economic policy including controversial demonetization implementation good service tax gst faced scrutiny impact various sector economy', 'additionally administration handling issue religious tolerance press freedom kashmir conflict subject intense debate international concern', 'nevertheless narendra modi remains formidable influential leader continually shaping course india future policy vision', 'ability connect mass unwavering commitment vision india ensure remains pivotal figure indian global politics']\n"
     ]
    }
   ],
   "source": [
    "# Cleaning the sentences and doing \n",
    "# 0. Removing special character and symbols which are not going to use.\n",
    "# 1. Stemming\n",
    "# 2. Lemmatization\n",
    "import re # importing the Regular-Expression\n",
    "corpus = []\n",
    "\n",
    "for i in range(len(sentences)):\n",
    "    # Remove non-alphabetic characters\n",
    "    review = re.sub('[^a-zA-Z]', \" \", sentences[i])\n",
    "    # Convert to lowercase\n",
    "    review = review.lower()\n",
    "    # Split into words\n",
    "    words = review.split()\n",
    "    # Remove stopwords and lemmatize the remaining words\n",
    "    filtered_words = [lemmatizer.lemmatize(word) for word in words if word not in stop_words]\n",
    "    # Rejoin the words into a single string\n",
    "    review = ' '.join(filtered_words)\n",
    "    # Append to corpus\n",
    "    corpus.append(review)\n",
    "\n",
    "print(corpus)       "
   ]
  },
  {
   "cell_type": "markdown",
   "metadata": {},
   "source": [
    "## Implementation of TextPre Processing 2\n",
    "\n",
    "### 1. Bag of Words\n",
    "### 2. TF-IDF\n",
    "### 3. Ngrams\n",
    "### 4. Word2Vec"
   ]
  },
  {
   "cell_type": "code",
   "execution_count": 125,
   "metadata": {},
   "outputs": [],
   "source": [
    "# For Bag of word\n",
    "\n",
    "from sklearn.feature_extraction.text import CountVectorizer\n",
    "cv = CountVectorizer(binary=True,ngram_range=(3,3))"
   ]
  },
  {
   "cell_type": "code",
   "execution_count": 126,
   "metadata": {},
   "outputs": [],
   "source": [
    "x = cv.fit_transform(corpus)"
   ]
  },
  {
   "cell_type": "code",
   "execution_count": 127,
   "metadata": {},
   "outputs": [
    {
     "data": {
      "text/plain": [
       "{'narendra modi prime': 108,\n",
       " 'modi prime minister': 105,\n",
       " 'prime minister india': 126,\n",
       " 'minister india since': 98,\n",
       " 'india since prominent': 72,\n",
       " 'since prominent figure': 146,\n",
       " 'prominent figure global': 128,\n",
       " 'figure global politics': 45,\n",
       " 'global politics known': 55,\n",
       " 'politics known dynamic': 122,\n",
       " 'known dynamic leadership': 86,\n",
       " 'dynamic leadership ambitious': 37,\n",
       " 'leadership ambitious vision': 88,\n",
       " 'ambitious vision country': 10,\n",
       " 'born september vadnagar': 16,\n",
       " 'september vadnagar gujarat': 140,\n",
       " 'vadnagar gujarat modi': 168,\n",
       " 'gujarat modi journey': 59,\n",
       " 'modi journey small': 104,\n",
       " 'journey small town': 83,\n",
       " 'small town tea': 148,\n",
       " 'town tea seller': 165,\n",
       " 'tea seller highest': 158,\n",
       " 'seller highest office': 139,\n",
       " 'highest office country': 62,\n",
       " 'office country inspiring': 112,\n",
       " 'country inspiring remarkable': 28,\n",
       " 'rose rank bharatiya': 135,\n",
       " 'rank bharatiya janata': 129,\n",
       " 'bharatiya janata party': 14,\n",
       " 'janata party bjp': 82,\n",
       " 'party bjp showcasing': 117,\n",
       " 'bjp showcasing organizational': 15,\n",
       " 'showcasing organizational acumen': 144,\n",
       " 'organizational acumen oratory': 114,\n",
       " 'acumen oratory skill': 2,\n",
       " 'oratory skill eventually': 113,\n",
       " 'skill eventually led': 147,\n",
       " 'eventually led tenure': 43,\n",
       " 'led tenure chief': 90,\n",
       " 'tenure chief minister': 160,\n",
       " 'chief minister gujarat': 20,\n",
       " 'time chief minister': 163,\n",
       " 'chief minister credited': 19,\n",
       " 'minister credited transforming': 97,\n",
       " 'credited transforming gujarat': 30,\n",
       " 'transforming gujarat vibrant': 166,\n",
       " 'gujarat vibrant economic': 60,\n",
       " 'vibrant economic powerhouse': 170,\n",
       " 'economic powerhouse although': 40,\n",
       " 'powerhouse although tenure': 124,\n",
       " 'although tenure also': 9,\n",
       " 'tenure also marked': 159,\n",
       " 'also marked controversy': 8,\n",
       " 'marked controversy particularly': 95,\n",
       " 'controversy particularly gujarat': 27,\n",
       " 'particularly gujarat riot': 115,\n",
       " 'prime minister modi': 127,\n",
       " 'minister modi initiated': 99,\n",
       " 'modi initiated several': 103,\n",
       " 'initiated several key': 77,\n",
       " 'several key reform': 142,\n",
       " 'key reform policy': 85,\n",
       " 'reform policy aimed': 130,\n",
       " 'policy aimed modernizing': 119,\n",
       " 'aimed modernizing india': 6,\n",
       " 'modernizing india infrastructure': 101,\n",
       " 'india infrastructure economy': 70,\n",
       " 'flagship initiative like': 47,\n",
       " 'initiative like make': 78,\n",
       " 'like make india': 91,\n",
       " 'make india digital': 93,\n",
       " 'india digital india': 66,\n",
       " 'digital india swachh': 36,\n",
       " 'india swachh bharat': 73,\n",
       " 'swachh bharat abhiyan': 156,\n",
       " 'bharat abhiyan clean': 13,\n",
       " 'abhiyan clean india': 0,\n",
       " 'clean india mission': 21,\n",
       " 'india mission garnered': 71,\n",
       " 'mission garnered significant': 100,\n",
       " 'garnered significant attention': 54,\n",
       " 'significant attention investment': 145,\n",
       " 'attention investment domestically': 12,\n",
       " 'investment domestically internationally': 80,\n",
       " 'modi foreign policy': 102,\n",
       " 'foreign policy also': 49,\n",
       " 'policy also assertive': 120,\n",
       " 'also assertive striving': 7,\n",
       " 'assertive striving enhance': 11,\n",
       " 'striving enhance india': 151,\n",
       " 'enhance india global': 41,\n",
       " 'india global stature': 69,\n",
       " 'global stature forge': 56,\n",
       " 'stature forge strategic': 149,\n",
       " 'forge strategic partnership': 50,\n",
       " 'strategic partnership major': 150,\n",
       " 'partnership major world': 116,\n",
       " 'major world power': 92,\n",
       " 'leadership style characterized': 89,\n",
       " 'style characterized strong': 153,\n",
       " 'characterized strong centralization': 18,\n",
       " 'strong centralization power': 152,\n",
       " 'centralization power focus': 17,\n",
       " 'power focus nationalistic': 123,\n",
       " 'focus nationalistic economic': 48,\n",
       " 'nationalistic economic development': 110,\n",
       " 'economic development agenda': 38,\n",
       " 'development agenda resonated': 35,\n",
       " 'agenda resonated many': 5,\n",
       " 'resonated many indian': 134,\n",
       " 'many indian securing': 94,\n",
       " 'indian securing second': 75,\n",
       " 'securing second term': 138,\n",
       " 'second term decisive': 137,\n",
       " 'term decisive electoral': 162,\n",
       " 'decisive electoral mandate': 32,\n",
       " 'despite success modi': 34,\n",
       " 'success modi tenure': 155,\n",
       " 'modi tenure without': 107,\n",
       " 'tenure without criticism': 161,\n",
       " 'economic policy including': 39,\n",
       " 'policy including controversial': 121,\n",
       " 'including controversial demonetization': 65,\n",
       " 'controversial demonetization implementation': 26,\n",
       " 'demonetization implementation good': 33,\n",
       " 'implementation good service': 64,\n",
       " 'good service tax': 57,\n",
       " 'service tax gst': 141,\n",
       " 'tax gst faced': 157,\n",
       " 'gst faced scrutiny': 58,\n",
       " 'faced scrutiny impact': 44,\n",
       " 'scrutiny impact various': 136,\n",
       " 'impact various sector': 63,\n",
       " 'various sector economy': 169,\n",
       " 'additionally administration handling': 3,\n",
       " 'administration handling issue': 4,\n",
       " 'handling issue religious': 61,\n",
       " 'issue religious tolerance': 81,\n",
       " 'religious tolerance press': 131,\n",
       " 'tolerance press freedom': 164,\n",
       " 'press freedom kashmir': 125,\n",
       " 'freedom kashmir conflict': 52,\n",
       " 'kashmir conflict subject': 84,\n",
       " 'conflict subject intense': 23,\n",
       " 'subject intense debate': 154,\n",
       " 'intense debate international': 79,\n",
       " 'debate international concern': 31,\n",
       " 'nevertheless narendra modi': 111,\n",
       " 'narendra modi remains': 109,\n",
       " 'modi remains formidable': 106,\n",
       " 'remains formidable influential': 132,\n",
       " 'formidable influential leader': 51,\n",
       " 'influential leader continually': 76,\n",
       " 'leader continually shaping': 87,\n",
       " 'continually shaping course': 25,\n",
       " 'shaping course india': 143,\n",
       " 'course india future': 29,\n",
       " 'india future policy': 68,\n",
       " 'future policy vision': 53,\n",
       " 'ability connect mass': 1,\n",
       " 'connect mass unwavering': 24,\n",
       " 'mass unwavering commitment': 96,\n",
       " 'unwavering commitment vision': 167,\n",
       " 'commitment vision india': 22,\n",
       " 'vision india ensure': 171,\n",
       " 'india ensure remains': 67,\n",
       " 'ensure remains pivotal': 42,\n",
       " 'remains pivotal figure': 133,\n",
       " 'pivotal figure indian': 118,\n",
       " 'figure indian global': 46,\n",
       " 'indian global politics': 74}"
      ]
     },
     "execution_count": 127,
     "metadata": {},
     "output_type": "execute_result"
    }
   ],
   "source": [
    "cv.vocabulary_  # in this vocabulary we are only getting trigrams."
   ]
  },
  {
   "cell_type": "code",
   "execution_count": 128,
   "metadata": {},
   "outputs": [
    {
     "data": {
      "text/plain": [
       "'narendra modi prime minister india since prominent figure global politics known dynamic leadership ambitious vision country'"
      ]
     },
     "execution_count": 128,
     "metadata": {},
     "output_type": "execute_result"
    }
   ],
   "source": [
    "corpus[0]"
   ]
  },
  {
   "cell_type": "code",
   "execution_count": 129,
   "metadata": {},
   "outputs": [
    {
     "data": {
      "text/plain": [
       "array([[0, 0, 0, 0, 0, 0, 0, 0, 0, 0, 1, 0, 0, 0, 0, 0, 0, 0, 0, 0, 0, 0,\n",
       "        0, 0, 0, 0, 0, 0, 0, 0, 0, 0, 0, 0, 0, 0, 0, 1, 0, 0, 0, 0, 0, 0,\n",
       "        0, 1, 0, 0, 0, 0, 0, 0, 0, 0, 0, 1, 0, 0, 0, 0, 0, 0, 0, 0, 0, 0,\n",
       "        0, 0, 0, 0, 0, 0, 1, 0, 0, 0, 0, 0, 0, 0, 0, 0, 0, 0, 0, 0, 1, 0,\n",
       "        1, 0, 0, 0, 0, 0, 0, 0, 0, 0, 1, 0, 0, 0, 0, 0, 0, 1, 0, 0, 1, 0,\n",
       "        0, 0, 0, 0, 0, 0, 0, 0, 0, 0, 0, 0, 1, 0, 0, 0, 1, 0, 1, 0, 0, 0,\n",
       "        0, 0, 0, 0, 0, 0, 0, 0, 0, 0, 0, 0, 0, 0, 1, 0, 0, 0, 0, 0, 0, 0,\n",
       "        0, 0, 0, 0, 0, 0, 0, 0, 0, 0, 0, 0, 0, 0, 0, 0, 0, 0]],\n",
       "      dtype=int64)"
      ]
     },
     "execution_count": 129,
     "metadata": {},
     "output_type": "execute_result"
    }
   ],
   "source": [
    "x[0].toarray()"
   ]
  },
  {
   "cell_type": "markdown",
   "metadata": {},
   "source": [
    "# so we have Learn some basic things related to text-processing "
   ]
  },
  {
   "cell_type": "code",
   "execution_count": 130,
   "metadata": {},
   "outputs": [],
   "source": [
    "# Now we will see the implementaion of TF-IDF\n",
    "\n",
    "from sklearn.feature_extraction.text import TfidfVectorizer\n",
    "cv = TfidfVectorizer(ngram_range=(3,3)) # want just trigram\n",
    "x = cv.fit_transform(corpus)"
   ]
  },
  {
   "cell_type": "code",
   "execution_count": 131,
   "metadata": {},
   "outputs": [
    {
     "data": {
      "text/plain": [
       "'narendra modi prime minister india since prominent figure global politics known dynamic leadership ambitious vision country'"
      ]
     },
     "execution_count": 131,
     "metadata": {},
     "output_type": "execute_result"
    }
   ],
   "source": [
    "corpus[0]"
   ]
  },
  {
   "cell_type": "code",
   "execution_count": 132,
   "metadata": {},
   "outputs": [
    {
     "data": {
      "text/plain": [
       "{'narendra modi prime': 108,\n",
       " 'modi prime minister': 105,\n",
       " 'prime minister india': 126,\n",
       " 'minister india since': 98,\n",
       " 'india since prominent': 72,\n",
       " 'since prominent figure': 146,\n",
       " 'prominent figure global': 128,\n",
       " 'figure global politics': 45,\n",
       " 'global politics known': 55,\n",
       " 'politics known dynamic': 122,\n",
       " 'known dynamic leadership': 86,\n",
       " 'dynamic leadership ambitious': 37,\n",
       " 'leadership ambitious vision': 88,\n",
       " 'ambitious vision country': 10,\n",
       " 'born september vadnagar': 16,\n",
       " 'september vadnagar gujarat': 140,\n",
       " 'vadnagar gujarat modi': 168,\n",
       " 'gujarat modi journey': 59,\n",
       " 'modi journey small': 104,\n",
       " 'journey small town': 83,\n",
       " 'small town tea': 148,\n",
       " 'town tea seller': 165,\n",
       " 'tea seller highest': 158,\n",
       " 'seller highest office': 139,\n",
       " 'highest office country': 62,\n",
       " 'office country inspiring': 112,\n",
       " 'country inspiring remarkable': 28,\n",
       " 'rose rank bharatiya': 135,\n",
       " 'rank bharatiya janata': 129,\n",
       " 'bharatiya janata party': 14,\n",
       " 'janata party bjp': 82,\n",
       " 'party bjp showcasing': 117,\n",
       " 'bjp showcasing organizational': 15,\n",
       " 'showcasing organizational acumen': 144,\n",
       " 'organizational acumen oratory': 114,\n",
       " 'acumen oratory skill': 2,\n",
       " 'oratory skill eventually': 113,\n",
       " 'skill eventually led': 147,\n",
       " 'eventually led tenure': 43,\n",
       " 'led tenure chief': 90,\n",
       " 'tenure chief minister': 160,\n",
       " 'chief minister gujarat': 20,\n",
       " 'time chief minister': 163,\n",
       " 'chief minister credited': 19,\n",
       " 'minister credited transforming': 97,\n",
       " 'credited transforming gujarat': 30,\n",
       " 'transforming gujarat vibrant': 166,\n",
       " 'gujarat vibrant economic': 60,\n",
       " 'vibrant economic powerhouse': 170,\n",
       " 'economic powerhouse although': 40,\n",
       " 'powerhouse although tenure': 124,\n",
       " 'although tenure also': 9,\n",
       " 'tenure also marked': 159,\n",
       " 'also marked controversy': 8,\n",
       " 'marked controversy particularly': 95,\n",
       " 'controversy particularly gujarat': 27,\n",
       " 'particularly gujarat riot': 115,\n",
       " 'prime minister modi': 127,\n",
       " 'minister modi initiated': 99,\n",
       " 'modi initiated several': 103,\n",
       " 'initiated several key': 77,\n",
       " 'several key reform': 142,\n",
       " 'key reform policy': 85,\n",
       " 'reform policy aimed': 130,\n",
       " 'policy aimed modernizing': 119,\n",
       " 'aimed modernizing india': 6,\n",
       " 'modernizing india infrastructure': 101,\n",
       " 'india infrastructure economy': 70,\n",
       " 'flagship initiative like': 47,\n",
       " 'initiative like make': 78,\n",
       " 'like make india': 91,\n",
       " 'make india digital': 93,\n",
       " 'india digital india': 66,\n",
       " 'digital india swachh': 36,\n",
       " 'india swachh bharat': 73,\n",
       " 'swachh bharat abhiyan': 156,\n",
       " 'bharat abhiyan clean': 13,\n",
       " 'abhiyan clean india': 0,\n",
       " 'clean india mission': 21,\n",
       " 'india mission garnered': 71,\n",
       " 'mission garnered significant': 100,\n",
       " 'garnered significant attention': 54,\n",
       " 'significant attention investment': 145,\n",
       " 'attention investment domestically': 12,\n",
       " 'investment domestically internationally': 80,\n",
       " 'modi foreign policy': 102,\n",
       " 'foreign policy also': 49,\n",
       " 'policy also assertive': 120,\n",
       " 'also assertive striving': 7,\n",
       " 'assertive striving enhance': 11,\n",
       " 'striving enhance india': 151,\n",
       " 'enhance india global': 41,\n",
       " 'india global stature': 69,\n",
       " 'global stature forge': 56,\n",
       " 'stature forge strategic': 149,\n",
       " 'forge strategic partnership': 50,\n",
       " 'strategic partnership major': 150,\n",
       " 'partnership major world': 116,\n",
       " 'major world power': 92,\n",
       " 'leadership style characterized': 89,\n",
       " 'style characterized strong': 153,\n",
       " 'characterized strong centralization': 18,\n",
       " 'strong centralization power': 152,\n",
       " 'centralization power focus': 17,\n",
       " 'power focus nationalistic': 123,\n",
       " 'focus nationalistic economic': 48,\n",
       " 'nationalistic economic development': 110,\n",
       " 'economic development agenda': 38,\n",
       " 'development agenda resonated': 35,\n",
       " 'agenda resonated many': 5,\n",
       " 'resonated many indian': 134,\n",
       " 'many indian securing': 94,\n",
       " 'indian securing second': 75,\n",
       " 'securing second term': 138,\n",
       " 'second term decisive': 137,\n",
       " 'term decisive electoral': 162,\n",
       " 'decisive electoral mandate': 32,\n",
       " 'despite success modi': 34,\n",
       " 'success modi tenure': 155,\n",
       " 'modi tenure without': 107,\n",
       " 'tenure without criticism': 161,\n",
       " 'economic policy including': 39,\n",
       " 'policy including controversial': 121,\n",
       " 'including controversial demonetization': 65,\n",
       " 'controversial demonetization implementation': 26,\n",
       " 'demonetization implementation good': 33,\n",
       " 'implementation good service': 64,\n",
       " 'good service tax': 57,\n",
       " 'service tax gst': 141,\n",
       " 'tax gst faced': 157,\n",
       " 'gst faced scrutiny': 58,\n",
       " 'faced scrutiny impact': 44,\n",
       " 'scrutiny impact various': 136,\n",
       " 'impact various sector': 63,\n",
       " 'various sector economy': 169,\n",
       " 'additionally administration handling': 3,\n",
       " 'administration handling issue': 4,\n",
       " 'handling issue religious': 61,\n",
       " 'issue religious tolerance': 81,\n",
       " 'religious tolerance press': 131,\n",
       " 'tolerance press freedom': 164,\n",
       " 'press freedom kashmir': 125,\n",
       " 'freedom kashmir conflict': 52,\n",
       " 'kashmir conflict subject': 84,\n",
       " 'conflict subject intense': 23,\n",
       " 'subject intense debate': 154,\n",
       " 'intense debate international': 79,\n",
       " 'debate international concern': 31,\n",
       " 'nevertheless narendra modi': 111,\n",
       " 'narendra modi remains': 109,\n",
       " 'modi remains formidable': 106,\n",
       " 'remains formidable influential': 132,\n",
       " 'formidable influential leader': 51,\n",
       " 'influential leader continually': 76,\n",
       " 'leader continually shaping': 87,\n",
       " 'continually shaping course': 25,\n",
       " 'shaping course india': 143,\n",
       " 'course india future': 29,\n",
       " 'india future policy': 68,\n",
       " 'future policy vision': 53,\n",
       " 'ability connect mass': 1,\n",
       " 'connect mass unwavering': 24,\n",
       " 'mass unwavering commitment': 96,\n",
       " 'unwavering commitment vision': 167,\n",
       " 'commitment vision india': 22,\n",
       " 'vision india ensure': 171,\n",
       " 'india ensure remains': 67,\n",
       " 'ensure remains pivotal': 42,\n",
       " 'remains pivotal figure': 133,\n",
       " 'pivotal figure indian': 118,\n",
       " 'figure indian global': 46,\n",
       " 'indian global politics': 74}"
      ]
     },
     "execution_count": 132,
     "metadata": {},
     "output_type": "execute_result"
    }
   ],
   "source": [
    "cv.vocabulary_"
   ]
  },
  {
   "cell_type": "code",
   "execution_count": 104,
   "metadata": {},
   "outputs": [
    {
     "data": {
      "text/plain": [
       "array([[0.        , 0.        , 0.        , 0.        , 0.        ,\n",
       "        0.        , 0.        , 0.        , 0.        , 0.        ,\n",
       "        0.26726124, 0.        , 0.        , 0.        , 0.        ,\n",
       "        0.        , 0.        , 0.        , 0.        , 0.        ,\n",
       "        0.        , 0.        , 0.        , 0.        , 0.        ,\n",
       "        0.        , 0.        , 0.        , 0.        , 0.        ,\n",
       "        0.        , 0.        , 0.        , 0.        , 0.        ,\n",
       "        0.        , 0.        , 0.26726124, 0.        , 0.        ,\n",
       "        0.        , 0.        , 0.        , 0.        , 0.        ,\n",
       "        0.26726124, 0.        , 0.        , 0.        , 0.        ,\n",
       "        0.        , 0.        , 0.        , 0.        , 0.        ,\n",
       "        0.26726124, 0.        , 0.        , 0.        , 0.        ,\n",
       "        0.        , 0.        , 0.        , 0.        , 0.        ,\n",
       "        0.        , 0.        , 0.        , 0.        , 0.        ,\n",
       "        0.        , 0.        , 0.26726124, 0.        , 0.        ,\n",
       "        0.        , 0.        , 0.        , 0.        , 0.        ,\n",
       "        0.        , 0.        , 0.        , 0.        , 0.        ,\n",
       "        0.        , 0.26726124, 0.        , 0.26726124, 0.        ,\n",
       "        0.        , 0.        , 0.        , 0.        , 0.        ,\n",
       "        0.        , 0.        , 0.        , 0.26726124, 0.        ,\n",
       "        0.        , 0.        , 0.        , 0.        , 0.        ,\n",
       "        0.26726124, 0.        , 0.        , 0.26726124, 0.        ,\n",
       "        0.        , 0.        , 0.        , 0.        , 0.        ,\n",
       "        0.        , 0.        , 0.        , 0.        , 0.        ,\n",
       "        0.        , 0.        , 0.26726124, 0.        , 0.        ,\n",
       "        0.        , 0.26726124, 0.        , 0.26726124, 0.        ,\n",
       "        0.        , 0.        , 0.        , 0.        , 0.        ,\n",
       "        0.        , 0.        , 0.        , 0.        , 0.        ,\n",
       "        0.        , 0.        , 0.        , 0.        , 0.        ,\n",
       "        0.        , 0.26726124, 0.        , 0.        , 0.        ,\n",
       "        0.        , 0.        , 0.        , 0.        , 0.        ,\n",
       "        0.        , 0.        , 0.        , 0.        , 0.        ,\n",
       "        0.        , 0.        , 0.        , 0.        , 0.        ,\n",
       "        0.        , 0.        , 0.        , 0.        , 0.        ,\n",
       "        0.        , 0.        ]])"
      ]
     },
     "execution_count": 104,
     "metadata": {},
     "output_type": "execute_result"
    }
   ],
   "source": [
    "x[0].toarray() # here the vector is getting created with different weighted."
   ]
  },
  {
   "cell_type": "code",
   "execution_count": null,
   "metadata": {},
   "outputs": [],
   "source": []
  }
 ],
 "metadata": {
  "kernelspec": {
   "display_name": "Python 3 (ipykernel)",
   "language": "python",
   "name": "python3"
  },
  "language_info": {
   "codemirror_mode": {
    "name": "ipython",
    "version": 3
   },
   "file_extension": ".py",
   "mimetype": "text/x-python",
   "name": "python",
   "nbconvert_exporter": "python",
   "pygments_lexer": "ipython3",
   "version": "3.11.4"
  }
 },
 "nbformat": 4,
 "nbformat_minor": 4
}
